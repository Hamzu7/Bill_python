{
 "cells": [
  {
   "cell_type": "code",
   "execution_count": 5,
   "id": "a5971a41",
   "metadata": {},
   "outputs": [],
   "source": [
    "def taxCalc(total):\n",
    "    if total >= 100000:\n",
    "        tax = total*.20\n",
    "    elif total >= 50000:\n",
    "        tax = total*.15\n",
    "    elif total >= 30000:\n",
    "        tax = total*.10\n",
    "    elif total >= 20000:\n",
    "        tax = total*.07\n",
    "    elif total >= 10000:\n",
    "        tax = total*.05\n",
    "    else:\n",
    "        tax = total*.02\n",
    "    return tax\n",
    "        "
   ]
  },
  {
   "cell_type": "code",
   "execution_count": 8,
   "id": "52126f3f",
   "metadata": {},
   "outputs": [],
   "source": [
    "def discount(total):\n",
    "    if total >= 100000:\n",
    "        disc = total*.25\n",
    "    elif total >= 50000:\n",
    "        disc = total*.20\n",
    "    elif total >= 30000:\n",
    "        disc = total*.15\n",
    "    elif total >= 20000:\n",
    "        disc = total*.10\n",
    "    elif total >= 10000:\n",
    "        disc = total*.05\n",
    "    else:\n",
    "        disc = total*.02\n",
    "    return disc"
   ]
  },
  {
   "cell_type": "code",
   "execution_count": 11,
   "id": "cb79db68",
   "metadata": {},
   "outputs": [],
   "source": [
    "def checkout(total,disc,tax):\n",
    "    bill_payable = total-disc+tax\n",
    "    return bill_payable"
   ]
  },
  {
   "cell_type": "code",
   "execution_count": 19,
   "id": "a2c8a37d",
   "metadata": {},
   "outputs": [],
   "source": [
    "def slip_generator(items,total,disc,tax,bill):\n",
    "    print(\n",
    "    f\"\"\"       HAMZA STORE\n",
    "        =========================\n",
    "        LIST OF ITEM PURCHASED: {items}\n",
    "        TOTAL AMOUNT          : {total}\n",
    "        DISCOUNT              : {disc}\n",
    "        TAX                   : {tax}\n",
    "        BILL                  : {bill}\n",
    "    \n",
    "        THANKS FOR SHOPPING!\n",
    "    \"\"\")"
   ]
  },
  {
   "cell_type": "code",
   "execution_count": 17,
   "id": "95a1b107",
   "metadata": {},
   "outputs": [],
   "source": [
    "lst = {'washing machine':20000, 'cloth cabinet':20000, 'bulb':500, 'dining table':30000, 'door':7000}\n",
    "\n",
    "def order():\n",
    "    items = []\n",
    "    total = 0\n",
    "    while True:\n",
    "        item = input(\"Enter your thing or q to checkout: \").lower()\n",
    "        if item == 'q':\n",
    "            break\n",
    "        elif len(items) == len(lst):\n",
    "            print('all items are in electronic shop: ')\n",
    "            break\n",
    "        elif item not in lst.keys():\n",
    "            print(f'{item} not in a lst: ')\n",
    "        elif item in items:\n",
    "            print(f'{item} already added: ')\n",
    "        else:\n",
    "            items.append(item)\n",
    "            total += lst[item]\n",
    "    disc = discount(total)\n",
    "    tax = taxCalc(total)\n",
    "    bill = checkout(total,disc,tax)\n",
    "    slip_generator(items,total,disc,tax,bill)"
   ]
  },
  {
   "cell_type": "code",
   "execution_count": 20,
   "id": "d6c17748",
   "metadata": {},
   "outputs": [
    {
     "name": "stdout",
     "output_type": "stream",
     "text": [
      "Enter your thing or q to checkout: WASHING MACHINE\n",
      "Enter your thing or q to checkout: CLOTH CABINET\n",
      "Enter your thing or q to checkout: BULB\n",
      "Enter your thing or q to checkout: DOOR\n",
      "Enter your thing or q to checkout: Q\n",
      "       HAMZA STORE\n",
      "        =========================\n",
      "        LIST OF ITEM PURCHASED: ['washing machine', 'cloth cabinet', 'bulb', 'door']\n",
      "        TOTAL AMOUNT          : 47500\n",
      "        DISCOUNT              : 7125.0\n",
      "        TAX                   : 4750.0\n",
      "        BILL                  : 45125.0\n",
      "    \n",
      "        THANKS FOR SHOPPING!\n",
      "    \n"
     ]
    }
   ],
   "source": [
    "order()"
   ]
  }
 ],
 "metadata": {
  "kernelspec": {
   "display_name": "Python 3 (ipykernel)",
   "language": "python",
   "name": "python3"
  },
  "language_info": {
   "codemirror_mode": {
    "name": "ipython",
    "version": 3
   },
   "file_extension": ".py",
   "mimetype": "text/x-python",
   "name": "python",
   "nbconvert_exporter": "python",
   "pygments_lexer": "ipython3",
   "version": "3.11.5"
  }
 },
 "nbformat": 4,
 "nbformat_minor": 5
}
